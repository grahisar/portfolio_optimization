{
 "cells": [
  {
   "cell_type": "code",
   "execution_count": 79,
   "id": "094f9a60",
   "metadata": {},
   "outputs": [],
   "source": [
    "# importing required libraries\n",
    "\n",
    "import pathlib\n",
    "import math\n",
    "import numpy as np\n",
    "import pandas as pd\n",
    "import matplotlib.pyplot as plt\n",
    "import scipy.optimize as sciop\n",
    "from pprint import pprint\n",
    "from sklearn.preprocessing import StandardScaler\n",
    "\n",
    "# setting display options for pandas\n",
    "\n",
    "pd.set_option('display.max_colwidth', None)\n",
    "pd.set_option('expand_frame_repr', False)\n",
    "\n",
    "%matplotlib inline"
   ]
  },
  {
   "cell_type": "code",
   "execution_count": 80,
   "id": "f7e1033c",
   "metadata": {},
   "outputs": [],
   "source": [
    "# Scraping Price Data from the NASDAQ Website (source: https://github.com/areed1192/portfolio-optimization/blob/master/pyopt/client.py)"
   ]
  },
  {
   "cell_type": "code",
   "execution_count": 81,
   "id": "93f7b01e",
   "metadata": {},
   "outputs": [],
   "source": [
    "import requests\n",
    "import pandas as pd\n",
    "\n",
    "from typing import List\n",
    "from typing import Dict\n",
    "from typing import Union\n",
    "from datetime import date\n",
    "from datetime import datetime\n",
    "from datetime import timedelta\n",
    "from dateutil.relativedelta import *\n",
    "\n",
    "from getuseragent import UserAgent\n",
    "\n",
    "class PriceHistory():\n",
    "\n",
    "    \"\"\"This is a simple Class object for scraping \n",
    "    price data from the NASDAQ website.\"\"\"\n",
    "\n",
    "    def __init__(self, symbols: List[str], user_agent: UserAgent) -> None:\n",
    "        \"\"\"Initalizes the PriceHistory client.\n",
    "        ### Arguments:\n",
    "        ----\n",
    "        symbols (List[str]): A list of ticker symbols to pull \n",
    "            quotes for.\n",
    "        \"\"\"              \n",
    "\n",
    "        self._api_url = 'https://api.nasdaq.com/api/quote'\n",
    "        self._api_service = 'historical'\n",
    "        self._symbols = symbols\n",
    "        self.user_agent = user_agent\n",
    "        self.price_data_frame = self._build_data_frames()\n",
    "\n",
    "    def _build_url(self, symbol: str) -> str:\n",
    "        \"\"\"Builds a Full URL.\n",
    "        ### Arguments:\n",
    "        ----\n",
    "        symbol (str): The symbol you want to build a URL for.\n",
    "        ### Returns:\n",
    "        ----\n",
    "        str: A URL to the Ticker symbol provided.\n",
    "        \"\"\"\n",
    "\n",
    "        parts = [self._api_url, symbol, self._api_service]\n",
    "        return '/'.join(parts)\n",
    "\n",
    "    @property\n",
    "    def symbols(self) -> List[str]:\n",
    "        \"\"\"Returns all the symbols currently being pulled.\n",
    "        ### Returns:\n",
    "        ----\n",
    "        List[str]: A list of ticker symbols.\n",
    "        \"\"\"        \n",
    "        return self._symbol\n",
    "    \n",
    "    def _build_data_frames(self) -> pd.DataFrame:\n",
    "        \"\"\"Builds a data frame with all the price data.\n",
    "        ### Returns:\n",
    "        ----\n",
    "        pd.DataFrame: A Pandas DataFrame with the data cleaned\n",
    "            and sorted.\n",
    "        \"\"\"        \n",
    "\n",
    "        all_data = []\n",
    "        to_date = datetime.today().date()\n",
    "\n",
    "        # Calculate the Start and End Point.\n",
    "        from_date = to_date - relativedelta(months=12)\n",
    "\n",
    "        for symbol in self._symbols:\n",
    "\n",
    "            all_data = self._grab_prices(\n",
    "                symbol=symbol,\n",
    "                from_date=from_date,\n",
    "                to_date=to_date\n",
    "            ) + all_data\n",
    "        \n",
    "        price_data_frame = pd.DataFrame(data=all_data)\n",
    "        price_data_frame['date'] = pd.to_datetime(price_data_frame['date'])\n",
    "    \n",
    "        return price_data_frame\n",
    "\n",
    "    def _grab_prices(self, symbol: str, from_date: date, to_date: date) -> List[Dict]:\n",
    "        \"\"\"Grabs the prices.\n",
    "        ### Arguments:\n",
    "        ----\n",
    "        symbol (str): The symbol to pull prices for.\n",
    "        \n",
    "        from_date (date): The starting date to pull prices.\n",
    "        \n",
    "        to_date (date): The ending data to pull prices for.\n",
    "        ### Returns:\n",
    "        ----\n",
    "        List[Dict]: A list of candle dictionaries.\n",
    "        \"\"\"        \n",
    "        \n",
    "        # Build the URL.\n",
    "        price_url = self._build_url(symbol=symbol)\n",
    "\n",
    "        # Calculate the limit.\n",
    "        limit: timedelta = (to_date - from_date)\n",
    "\n",
    "        # Define the parameters.\n",
    "        params = {\n",
    "            'fromdate': from_date.isoformat(),\n",
    "            'todate': to_date.isoformat(),\n",
    "            'assetclass': 'stocks',\n",
    "            'limit': limit.days\n",
    "        }\n",
    "\n",
    "        # Fake the headers.\n",
    "        headers = {\n",
    "            'user-agent': self.user_agent\n",
    "        }\n",
    "\n",
    "        # Grab the historical data.\n",
    "        historical_data = requests.get(\n",
    "            url=price_url,\n",
    "            params=params,\n",
    "            headers=headers,\n",
    "            verify=True\n",
    "        )\n",
    "\n",
    "        # If it's okay parse it.\n",
    "        if historical_data.ok:\n",
    "            historical_data = historical_data.json()\n",
    "            historical_data = historical_data['data']['tradesTable']['rows']\n",
    "\n",
    "            # Clean the data.\n",
    "            for table_row in historical_data:\n",
    "                table_row['symbol'] = symbol\n",
    "                table_row['close'] = float(table_row['close'].replace('$',''))\n",
    "                table_row['volume'] = int(table_row['volume'].replace(',',''))\n",
    "                table_row['open'] = float(table_row['open'].replace('$',''))\n",
    "                table_row['high'] = float(table_row['high'].replace('$',''))\n",
    "                table_row['low'] = float(table_row['low'].replace('$',''))\n",
    "\n",
    "            return historical_data"
   ]
  },
  {
   "cell_type": "code",
   "execution_count": 82,
   "id": "e792deef",
   "metadata": {},
   "outputs": [
    {
     "name": "stdout",
     "output_type": "stream",
     "text": [
      "           date     close     volume      open      high       low symbol\n",
      "0    2021-08-17  518.9100    2309803  515.4650  520.7900  514.2000   NFLX\n",
      "1    2021-08-16  517.9200    2033176  515.2400  523.3800  512.3000   NFLX\n",
      "2    2021-08-13  515.9200    2177736  512.6400  521.4400  511.5100   NFLX\n",
      "3    2021-08-12  510.7200    1686170  511.8600  513.0000  507.2014   NFLX\n",
      "4    2021-08-11  512.4000    1673904  517.0000  519.5700  509.7700   NFLX\n",
      "...         ...       ...        ...       ...       ...       ...    ...\n",
      "1255 2020-08-24  125.8575  345937760  128.6975  128.7850  123.9363   AAPL\n",
      "1256 2020-08-21  124.3700  338054640  119.2625  124.8680  119.2500   AAPL\n",
      "1257 2020-08-20  118.2750  126907200  115.7500  118.3920  115.7334   AAPL\n",
      "1258 2020-08-19  115.7075  145538000  115.9833  117.1625  115.6100   AAPL\n",
      "1259 2020-08-18  115.5625  105633560  114.3525  116.0000  114.0075   AAPL\n",
      "\n",
      "[1260 rows x 7 columns]\n",
      "           date     close     volume      open      high       low symbol\n",
      "0    2021-08-17  518.9100    2309803  515.4650  520.7900  514.2000   NFLX\n",
      "1    2021-08-16  517.9200    2033176  515.2400  523.3800  512.3000   NFLX\n",
      "2    2021-08-13  515.9200    2177736  512.6400  521.4400  511.5100   NFLX\n",
      "3    2021-08-12  510.7200    1686170  511.8600  513.0000  507.2014   NFLX\n",
      "4    2021-08-11  512.4000    1673904  517.0000  519.5700  509.7700   NFLX\n",
      "...         ...       ...        ...       ...       ...       ...    ...\n",
      "1255 2020-08-24  125.8575  345937760  128.6975  128.7850  123.9363   AAPL\n",
      "1256 2020-08-21  124.3700  338054640  119.2625  124.8680  119.2500   AAPL\n",
      "1257 2020-08-20  118.2750  126907200  115.7500  118.3920  115.7334   AAPL\n",
      "1258 2020-08-19  115.7075  145538000  115.9833  117.1625  115.6100   AAPL\n",
      "1259 2020-08-18  115.5625  105633560  114.3525  116.0000  114.0075   AAPL\n",
      "\n",
      "[1260 rows x 7 columns]\n"
     ]
    }
   ],
   "source": [
    "symbols = ['AAPL', 'MSFT', 'GOOG', 'AMZN', 'NFLX']\n",
    "number_of_symbols = len(symbols)\n",
    "\n",
    "if not pathlib.Path('C:/Users/grahithaa/portfolio_optimization/price_data.csv').exists():\n",
    "    price_history_client = PriceHistory(symbols = symbols, user_agent = 'UserAgent().edge')\n",
    "    price_history_client.price_data_frame.to_csv('price_data.csv', index=False)\n",
    "    pprint(price_history_client.price_data_frame)\n",
    "    price_data_frame: pd.DataFrame = price_history_client.price_data_frame\n",
    "else:\n",
    "    price_data_frame: pd.DataFrame = pd.read_csv('C:/Users/grahithaa/portfolio_optimization/price_data.csv')\n",
    "\n",
    "pprint(price_data_frame)"
   ]
  },
  {
   "cell_type": "code",
   "execution_count": 83,
   "id": "46dc2869",
   "metadata": {},
   "outputs": [
    {
     "name": "stdout",
     "output_type": "stream",
     "text": [
      "symbol          AAPL     AMZN     GOOG    MSFT    NFLX\n",
      "date                                                  \n",
      "2020-08-18  115.5625  3312.49  1558.60  211.49  491.87\n",
      "2020-08-19  115.7075  3260.48  1547.53  209.70  484.53\n",
      "2020-08-20  118.2750  3297.37  1581.75  214.58  497.90\n",
      "2020-08-21  124.3700  3284.72  1580.42  213.02  492.31\n",
      "2020-08-24  125.8575  3307.46  1588.20  213.69  488.81\n"
     ]
    }
   ],
   "source": [
    "# changing the way the data is presented\n",
    "price_data_frame = price_data_frame[['date', 'symbol', 'close']]\n",
    "price_data_frame = price_data_frame.pivot(index='date', columns='symbol', values='close')\n",
    "print(price_data_frame.head())"
   ]
  },
  {
   "cell_type": "code",
   "execution_count": 84,
   "id": "36c1ffe2",
   "metadata": {},
   "outputs": [],
   "source": [
    "# Calculating the Sharpe Ratio"
   ]
  },
  {
   "cell_type": "code",
   "execution_count": 85,
   "id": "dc9616c1",
   "metadata": {
    "scrolled": true
   },
   "outputs": [
    {
     "name": "stdout",
     "output_type": "stream",
     "text": [
      "symbol          AAPL      AMZN      GOOG      MSFT      NFLX\n",
      "date                                                        \n",
      "2020-08-18       NaN       NaN       NaN       NaN       NaN\n",
      "2020-08-19  0.001254 -0.015826 -0.007128 -0.008500 -0.015035\n",
      "2020-08-20  0.021947  0.011251  0.021872  0.023005  0.027220\n",
      "2020-08-21  0.050249 -0.003844 -0.000841 -0.007297 -0.011291\n",
      "2020-08-24  0.011889  0.006899  0.004911  0.003140 -0.007135\n",
      "...              ...       ...       ...       ...       ...\n",
      "2021-08-11  0.001784 -0.008641 -0.002952  0.001779 -0.006691\n",
      "2021-08-12  0.020561  0.003454  0.005071  0.009918 -0.003284\n",
      "2021-08-13  0.001409 -0.002889  0.000119  0.010435  0.010130\n",
      "2021-08-16  0.013457  0.001523  0.003678  0.005958  0.003869\n",
      "2021-08-17 -0.006173 -0.017438 -0.011697 -0.005173  0.001910\n",
      "\n",
      "[252 rows x 5 columns]\n",
      "[0.75114475 0.90483482 0.51770968 0.43679957 0.07173569]\n",
      "[0.28004544 0.33734492 0.19301504 0.16284974 0.02674485]\n",
      "0.23093315252159805\n",
      "0.24861308869432364\n"
     ]
    }
   ],
   "source": [
    "# calculating expected returns\n",
    "log_returns = np.log(1 + price_data_frame.pct_change())\n",
    "print(log_returns)\n",
    "random_weights = np.array(np.random.random(number_of_symbols)) # generate random weights in the interval [0, 1)\n",
    "rebalanced_weights = random_weights/np.sum(random_weights) # rebalancing weights so the sum is 1\n",
    "print(random_weights)\n",
    "print(rebalanced_weights)\n",
    "expected_returns = np.array(np.sum((log_returns.mean()*rebalanced_weights)*252))\n",
    "print(expected_returns)\n",
    "\n",
    "# calculating expected volatility\n",
    "expected_volatility = np.array(np.sqrt(np.dot(rebalanced_weights.T, np.dot(log_returns.cov()*252, rebalanced_weights))))\n",
    "print(expected_volatility)\n",
    "\n",
    "# calculating the sharpe ratio\n",
    "sharpe_ratio = np.array((expected_returns - 0.0625) / expected_volatility) # considering a risk-free rate of 2.5%, taking the logarithm, and annualizing it"
   ]
  },
  {
   "cell_type": "code",
   "execution_count": 86,
   "id": "e34ce462",
   "metadata": {},
   "outputs": [
    {
     "name": "stdout",
     "output_type": "stream",
     "text": [
      "PORTFOLIO WEIGHTS\n",
      "   Random Weights  Rebalanced Weights\n",
      "1        0.751145            0.280045\n",
      "2        0.904835            0.337345\n",
      "3        0.517710            0.193015\n",
      "4        0.436800            0.162850\n",
      "5        0.071736            0.026745\n",
      "PORTFOLIO METRICS\n",
      "   Expected Portfolio Returns  Expected Portfolio Volatility  Portfolio Sharpe Ratio\n",
      "0                    0.230933                       0.248613                0.677491\n"
     ]
    }
   ],
   "source": [
    "weights = pd.DataFrame(data = {'Random Weights': random_weights, 'Rebalanced Weights': rebalanced_weights}, index = [1, 2, 3, 4, 5])\n",
    "print('PORTFOLIO WEIGHTS')\n",
    "print(weights)\n",
    "\n",
    "metrics = pd.DataFrame(data = {'Expected Portfolio Returns': expected_returns, 'Expected Portfolio Volatility': expected_volatility, 'Portfolio Sharpe Ratio': sharpe_ratio}, index = [0])\n",
    "print('PORTFOLIO METRICS')\n",
    "print(metrics)"
   ]
  },
  {
   "cell_type": "code",
   "execution_count": 87,
   "id": "a9fbbb6c",
   "metadata": {},
   "outputs": [
    {
     "name": "stdout",
     "output_type": "stream",
     "text": [
      "0.25977502385075946\n",
      "0.23093315252159413\n"
     ]
    }
   ],
   "source": [
    "# Viewing Expected Portfolio Returns without Taking the Logarithm\n",
    "a = math.exp(expected_returns/252) - 1\n",
    "b = ((1 + a)**252)-1\n",
    "print(b)\n",
    "\n",
    "print(np.log(1 + a)*252) # verifying with the logarithm of expected returns"
   ]
  },
  {
   "cell_type": "code",
   "execution_count": 88,
   "id": "09b5ce7c",
   "metadata": {},
   "outputs": [],
   "source": [
    "# Running a Monte Carlo Simulation\n",
    "# these are used to model the probability of different outcomes in a process that cannot easily be predicted due to the intervention of random variables. we use it to understand the impact of risk and uncertainty in prediction and forecasting models"
   ]
  },
  {
   "cell_type": "code",
   "execution_count": 89,
   "id": "54b169da",
   "metadata": {},
   "outputs": [
    {
     "name": "stdout",
     "output_type": "stream",
     "text": [
      "SIMULATIONS RESULTS\n",
      "    Returns  Volatility  Sharpe Ratio                                                                                         Portfolio Weights\n",
      "0  0.214493    0.256142      0.593395  [0.33497369103321395, 0.11013959271210562, 0.03770154660521808, 0.29033273395485315, 0.2268524356946092]\n",
      "1  0.285721    0.245112      0.910689  [0.06469385283942301, 0.19255845189909387, 0.4044670443097608, 0.09018383300813697, 0.24809681794358526]\n",
      "2  0.192997    0.245825      0.530852  [0.07883309788514994, 0.2618160475855084, 0.08057947393345037, 0.36881041626498107, 0.20996096433091035]\n",
      "3  0.277521    0.237711      0.904550     [0.051981530381522, 0.2650719462789598, 0.3262450473384449, 0.23699039113466158, 0.11971108486641185]\n",
      "4  0.292773    0.247554      0.930192    [0.004251922678527462, 0.16843603541266525, 0.43099603947624, 0.10564047648450217, 0.2906755259480651]\n"
     ]
    }
   ],
   "source": [
    "number_of_portfolios = 5000\n",
    "all_weights = np.zeros((number_of_portfolios, number_of_symbols))\n",
    "all_returns = np.zeros(number_of_portfolios)\n",
    "all_returns_nolog = np.zeros(number_of_portfolios)\n",
    "all_volatilities = np.zeros(number_of_portfolios)\n",
    "all_sharpe_ratios = np.zeros(number_of_portfolios)\n",
    "\n",
    "for i in range(number_of_portfolios):\n",
    "    weights = np.array(np.random.random(number_of_symbols))\n",
    "    weights = weights/np.sum(weights)\n",
    "    all_weights[i, :] = weights\n",
    "    all_returns[i] = np.sum((log_returns.mean()*weights)*252)\n",
    "    all_returns_nolog[i] = ((1 + (math.exp(all_returns[i]/252)-1))**252)-1\n",
    "    all_volatilities[i] = np.sqrt(np.dot(weights.T, np.dot(log_returns.cov()*252, weights)))\n",
    "    all_sharpe_ratios[i] = (all_returns[i] - 0.0625)/all_volatilities[i]\n",
    "\n",
    "simulations_data = [all_returns, all_volatilities, all_sharpe_ratios, all_weights]\n",
    "simulations_df = pd.DataFrame(data = simulations_data).T\n",
    "simulations_df.columns = ['Returns', 'Volatility', 'Sharpe Ratio', 'Portfolio Weights']\n",
    "simulations_df = simulations_df.infer_objects()\n",
    "\n",
    "print('SIMULATIONS RESULTS')\n",
    "print(simulations_df.head())"
   ]
  },
  {
   "cell_type": "code",
   "execution_count": 90,
   "id": "9a7d0a5e",
   "metadata": {},
   "outputs": [
    {
     "name": "stdout",
     "output_type": "stream",
     "text": [
      "MAX SHARPE RATIO\n",
      "Returns                                                                                                               0.461205\n",
      "Volatility                                                                                                            0.242499\n",
      "Sharpe Ratio                                                                                                          1.644151\n",
      "Portfolio Weights    [0.030506749304958062, 0.061648179812428754, 0.6917227087747452, 0.1810279978460483, 0.03509436426181975]\n",
      "Name: 2308, dtype: object\n",
      "MAX RETURNS\n",
      "Returns                                                                                                               0.461205\n",
      "Volatility                                                                                                            0.242499\n",
      "Sharpe Ratio                                                                                                          1.644151\n",
      "Portfolio Weights    [0.030506749304958062, 0.061648179812428754, 0.6917227087747452, 0.1810279978460483, 0.03509436426181975]\n",
      "Name: 2308, dtype: object\n",
      "MIN VOLATILITY\n",
      "Returns                                                                                                                0.372094\n",
      "Volatility                                                                                                             0.233168\n",
      "Sharpe Ratio                                                                                                           1.327774\n",
      "Portfolio Weights    [0.00021651824410153758, 0.02585825625804423, 0.3390881113192278, 0.5319749582429781, 0.10286215593564818]\n",
      "Name: 1094, dtype: object\n"
     ]
    }
   ],
   "source": [
    "# obtaining some important portfolios\n",
    "\n",
    "max_sharpe_ratio = simulations_df.loc[simulations_df['Sharpe Ratio'].idxmax()]\n",
    "max_returns = simulations_df.loc[simulations_df['Returns'].idxmax()]\n",
    "min_volatility = simulations_df.loc[simulations_df['Volatility'].idxmin()]\n",
    "\n",
    "print('MAX SHARPE RATIO')\n",
    "print(max_sharpe_ratio)\n",
    "print('MAX RETURNS')\n",
    "print(max_returns)\n",
    "print('MIN VOLATILITY')\n",
    "print(min_volatility)"
   ]
  },
  {
   "cell_type": "code",
   "execution_count": 91,
   "id": "4464b4d1",
   "metadata": {},
   "outputs": [],
   "source": [
    "# Plotting the Simulation"
   ]
  },
  {
   "cell_type": "code",
   "execution_count": 92,
   "id": "94c09967",
   "metadata": {},
   "outputs": [
    {
     "name": "stdout",
     "output_type": "stream",
     "text": [
      "Maximum Sharpe Ratio: Red; Maximum Returns: Yellow; Minimum Volatility: Blue\n"
     ]
    },
    {
     "data": {
      "text/plain": [
       "<matplotlib.collections.PathCollection at 0x1dd7e3cbf70>"
      ]
     },
     "execution_count": 92,
     "metadata": {},
     "output_type": "execute_result"
    },
    {
     "data": {
      "image/png": "[encoded data removed]",
      "text/plain": [
       "<Figure size 432x288 with 2 Axes>"
      ]
     },
     "metadata": {
      "needs_background": "light"
     },
     "output_type": "display_data"
    }
   ],
   "source": [
    "plt.scatter(y = simulations_df['Returns'], x = simulations_df['Volatility'], c = simulations_df['Sharpe Ratio'], cmap = 'RdYlBu')\n",
    "plt.title('Portfolio Returns v. Risk')\n",
    "plt.colorbar(label = 'Sharpe Ratio')\n",
    "plt.xlabel('Risk')\n",
    "plt.ylabel('Returns')\n",
    "\n",
    "print('Maximum Sharpe Ratio: Red; Maximum Returns: Yellow; Minimum Volatility: Blue')\n",
    "plt.scatter(max_sharpe_ratio[1], max_sharpe_ratio[0], marker = (5, 1, 0), color = 'r', s = 600)\n",
    "plt.scatter(max_returns[1], max_returns[0], marker = (5, 1, 0), color = 'y', s = 200)\n",
    "plt.scatter(min_volatility[1], min_volatility[0], marker = (5, 1, 0), color = 'b', s = 550)"
   ]
  },
  {
   "cell_type": "code",
   "execution_count": 93,
   "id": "901582a9",
   "metadata": {},
   "outputs": [],
   "source": [
    "# Optimization\n",
    "# the monte carlo simulation is not the most efficient way to find optimal values; we can use mathematical techniques to arrive at these values instead\n",
    "# source: https://github.com/areed1192/portfolio-optimization/blob/master/samples/portfolio_optimization.ipynb"
   ]
  },
  {
   "cell_type": "code",
   "execution_count": 94,
   "id": "975a28be",
   "metadata": {},
   "outputs": [],
   "source": [
    "# defining functions to:\n",
    "# 1. find the sharpe ratio, returns, and volatility given portfolio weights\n",
    "# 2. obtain the minimum sharpe ratio (since scipy's optimization does not have a maximize function; we obtain the maximum sharpe ratio by multiplying the sharpe ratio by -1 and finding the minimum value), minimum returns (same logic as the sharpe ratio), and minimum volatility\n",
    "# 3. check if the sum of weights equals 1 \n",
    "\n",
    "def get_metrics(weights:list) -> np.array:\n",
    "    \"\"\"\n",
    "    ### Overview:\n",
    "    ----\n",
    "    With a given set of weights, return the portfolio returns,\n",
    "    the portfolio volatility, and the portfolio sharpe ratio.\n",
    "\n",
    "    ### Arguments:\n",
    "    ----\n",
    "    weights (list): An array of portfolio weights.\n",
    "\n",
    "    ### Returns:\n",
    "    ----\n",
    "    (np.array): An array containg return value, a volatility value,\n",
    "        and a sharpe ratio.\n",
    "    \"\"\"\n",
    "    weights = np.array(weights)\n",
    "    returns = np.sum(log_returns.mean()*weights)*252\n",
    "    volatility = np.sqrt(np.dot(weights.T, np.dot(log_returns.cov()*252, weights)))\n",
    "    sharpe_ratio = (returns - 0.0625)/volatility\n",
    "    return np.array([returns, volatility, sharpe_ratio])\n",
    "\n",
    "def grab_negative_sharpe(weights: list) -> np.array:\n",
    "    \"\"\"The function used to minimize the Sharpe Ratio.\n",
    "\n",
    "    ### Arguments:\n",
    "    ----\n",
    "    weights (list): The weights, we are testing to see\n",
    "        if it's the minimum.\n",
    "\n",
    "    ### Returns:\n",
    "    ----\n",
    "    (np.array): An numpy array of the portfolio metrics.\n",
    "    \"\"\"\n",
    "    return -get_metrics(weights)[2]\n",
    "\n",
    "def grab_negative_returns(weights: list) -> np.array:\n",
    "    \"\"\"The function used to minimize the returns.\n",
    "\n",
    "    ### Arguments:\n",
    "    ----\n",
    "    weights (list): The weights, we are testing to see\n",
    "        if it's the minimum.\n",
    "\n",
    "    ### Returns:\n",
    "    ----\n",
    "    (np.array): An numpy array of the portfolio metrics.\n",
    "    \"\"\"\n",
    "    return -get_metrics(weights)[0]\n",
    "\n",
    "\n",
    "def grab_volatility(weights: list) -> np.array:\n",
    "    \"\"\"The function used to minimize the volatility.\n",
    "\n",
    "    ### Arguments:\n",
    "    ----\n",
    "    weights (list): The weights, we are testing to see\n",
    "        if it's the minimum.\n",
    "\n",
    "    ### Returns:\n",
    "    ----\n",
    "    (np.array): An numpy array of the portfolio metrics.\n",
    "    \"\"\"\n",
    "    return get_metrics(weights)[1]\n",
    "\n",
    "def check_sum(weights: list) -> float:\n",
    "    \"\"\"Ensure the allocations of the \"weights\", sums to 1 (100%)\n",
    "\n",
    "    ### Arguments:\n",
    "    ----\n",
    "    weights (list): The weights we want to check to see\n",
    "        if they sum to 1.\n",
    "\n",
    "    ### Returns:\n",
    "    ----\n",
    "    float: The different between 1 and the sum of the weights.\n",
    "    \"\"\"\n",
    "    return np.sum(weights) - 1\n",
    "    "
   ]
  },
  {
   "cell_type": "code",
   "execution_count": 95,
   "id": "df58ff63",
   "metadata": {},
   "outputs": [
    {
     "name": "stdout",
     "output_type": "stream",
     "text": [
      "OPTIMIZED SHARPE RATIO\n",
      "OPTIMIZED WEIGHTS (AAPL, MSFT, GOOG, AMZN, NFLX)\n",
      "[8.32667268e-17 0.00000000e+00 1.00000000e+00 4.16333634e-16\n",
      " 0.00000000e+00]\n",
      "OPTIMIZED METRICS (returns, volatility, sharpe ratio)\n",
      "[0.56861738 0.26424624 1.91532484]\n"
     ]
    }
   ],
   "source": [
    "# optimizing the sharpe ratio\n",
    "\n",
    "bounds = tuple((0, 1) for symbol in range(number_of_symbols)) # to ensure we don't invest more than 100% of our funds\n",
    "constraints = ({'type': 'eq', 'fun': check_sum})\n",
    "\n",
    "initial_weights = number_of_symbols * [1./number_of_symbols,]\n",
    "\n",
    "optimized_sharpe = sciop.minimize(grab_negative_sharpe, initial_weights, method = 'SLSQP', bounds = bounds, constraints = constraints)\n",
    "optimized_metrics = get_metrics(weights = optimized_sharpe.x)\n",
    "\n",
    "print('OPTIMIZED SHARPE RATIO')\n",
    "print('OPTIMIZED WEIGHTS (AAPL, MSFT, GOOG, AMZN, NFLX)')\n",
    "print(optimized_sharpe.x)\n",
    "print('OPTIMIZED METRICS (returns, volatility, sharpe ratio)')\n",
    "print(optimized_metrics)\n"
   ]
  },
  {
   "cell_type": "code",
   "execution_count": 96,
   "id": "865bd2c4",
   "metadata": {},
   "outputs": [
    {
     "name": "stdout",
     "output_type": "stream",
     "text": [
      "OPTIMIZED RETURNS\n",
      "OPTIMIZED WEIGHTS (AAPL, MSFT, GOOG, AMZN, NFLX)\n",
      "[2.63677968e-16 5.03069808e-16 1.00000000e+00 0.00000000e+00\n",
      " 4.23272528e-16]\n",
      "OPTIMIZED METRICS (returns, volatility, sharpe ratio)\n",
      "[0.56861738 0.26424624 1.91532484]\n"
     ]
    }
   ],
   "source": [
    "# optimizing the returns\n",
    "\n",
    "bounds = tuple((0, 1) for symbol in range(number_of_symbols)) # to ensure we don't invest more than 100% of our funds\n",
    "constraints = ({'type': 'eq', 'fun': check_sum})\n",
    "\n",
    "initial_weights = number_of_symbols * [1./number_of_symbols,]\n",
    "\n",
    "optimized_returns = sciop.minimize(grab_negative_returns, initial_weights, method = 'SLSQP', bounds = bounds, constraints = constraints)\n",
    "optimized_metrics = get_metrics(weights = optimized_returns.x)\n",
    "\n",
    "print('OPTIMIZED RETURNS')\n",
    "print('OPTIMIZED WEIGHTS (AAPL, MSFT, GOOG, AMZN, NFLX)')\n",
    "print(optimized_returns.x)\n",
    "print('OPTIMIZED METRICS (returns, volatility, sharpe ratio)')\n",
    "print(optimized_metrics)"
   ]
  },
  {
   "cell_type": "code",
   "execution_count": 97,
   "id": "8f49369c",
   "metadata": {},
   "outputs": [
    {
     "name": "stdout",
     "output_type": "stream",
     "text": [
      "OPTIMIZED VOLATILITY\n",
      "OPTIMIZED WEIGHTS (AAPL, MSFT, GOOG, AMZN, NFLX)\n",
      "[0.01185496 0.07825345 0.33496525 0.49385885 0.08106749]\n",
      "OPTIMIZED METRICS (returns, volatility, sharpe ratio)\n",
      "[0.35802355 0.23291048 1.2688289 ]\n"
     ]
    }
   ],
   "source": [
    "# optimizing the volatility\n",
    "\n",
    "bounds = tuple((0, 1) for symbol in range(number_of_symbols)) # to ensure we don't invest more than 100% of our funds\n",
    "constraints = ({'type': 'eq', 'fun': check_sum})\n",
    "\n",
    "initial_weights = number_of_symbols * [1./number_of_symbols,]\n",
    "\n",
    "optimized_volatility = sciop.minimize(grab_volatility, initial_weights, method = 'SLSQP', bounds = bounds, constraints = constraints)\n",
    "optimized_metrics = get_metrics(weights = optimized_volatility.x)\n",
    "\n",
    "print('OPTIMIZED VOLATILITY')\n",
    "print('OPTIMIZED WEIGHTS (AAPL, MSFT, GOOG, AMZN, NFLX)')\n",
    "print(optimized_volatility.x)\n",
    "print('OPTIMIZED METRICS (returns, volatility, sharpe ratio)')\n",
    "print(optimized_metrics)"
   ]
  }
 ],
 "metadata": {
  "kernelspec": {
   "display_name": "Python 3",
   "language": "python",
   "name": "python3"
  },
  "language_info": {
   "codemirror_mode": {
    "name": "ipython",
    "version": 3
   },
   "file_extension": ".py",
   "mimetype": "text/x-python",
   "name": "python",
   "nbconvert_exporter": "python",
   "pygments_lexer": "ipython3",
   "version": "3.8.8"
  }
 },
 "nbformat": 4,
 "nbformat_minor": 5
}
